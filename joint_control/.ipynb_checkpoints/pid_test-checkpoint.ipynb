{
 "cells": [
  {
   "cell_type": "code",
   "execution_count": 1,
   "metadata": {
    "collapsed": false
   },
   "outputs": [],
   "source": [
    "%matplotlib inline\n",
    "from pylab import *\n",
    "from ipywidgets import interact\n",
    "from IPython import display\n",
    "from collections import deque"
   ]
  },
  {
   "cell_type": "code",
   "execution_count": 2,
   "metadata": {
    "collapsed": false
   },
   "outputs": [],
   "source": [
    "from pid import PIDAgent\n",
    "agent = PIDAgent()"
   ]
  },
  {
   "cell_type": "code",
   "execution_count": 3,
   "metadata": {
    "collapsed": false
   },
   "outputs": [
    {
     "data": {
      "image/png": "[encoded data removed]",
      "text/plain": [
       "<matplotlib.figure.Figure at 0x7f5fd1245f90>"
      ]
     },
     "metadata": {},
     "output_type": "display_data"
    }
   ],
   "source": [
    "@interact(kp=(0, 100, 1), ki=(-1, 1, 0.1), kd=(-1, 1, 0.1), delay=(0, 5))\n",
    "def set_pid_parameters(kp, ki, kd, delay=0):\n",
    "    global agent\n",
    "    agent.joint_controller.Kp = kp\n",
    "    agent.joint_controller.Ki = ki\n",
    "    agent.joint_controller.Kd = kd\n",
    "    agent.joint_controller.set_delay(delay)\n",
    "\n",
    "joint_name = 'HeadYaw'\n",
    "sensor = deque(maxlen=100)\n",
    "target = deque(maxlen=100)\n",
    "\n",
    "@interact(name=agent.joint_names)\n",
    "def set_joint_name(name):\n",
    "    global joint_name\n",
    "    if joint_name != name:\n",
    "        joint_name = name\n",
    "        sensor.clear()\n",
    "        target.clear()\n",
    "\n",
    "@interact(value=(-1, 3, 0.1))\n",
    "def set_joint_target(value):\n",
    "    agent.target_joints[joint_name] = value"
   ]
  },
  {
   "cell_type": "code",
   "execution_count": 4,
   "metadata": {
    "collapsed": false
   },
   "outputs": [
    {
     "data": {
      "image/png": "[encoded data removed]",
      "text/plain": [
       "<matplotlib.figure.Figure at 0x7f5fec150f90>"
      ]
     },
     "metadata": {},
     "output_type": "display_data"
    }
   ],
   "source": [
    "# inject plotting input agent's loop\n",
    "cycle = 0\n",
    "orig_sense_think_act = agent.sense_think_act\n",
    "def sense_think_act():\n",
    "    global cycle\n",
    "    cycle += 1\n",
    "    orig_sense_think_act()\n",
    "    sensor.append(agent.perception.joint[joint_name])\n",
    "    target.append(agent.target_joints[joint_name])\n",
    "    if cycle % 10 == 0:  # plot every 10 cycles\n",
    "        cla()\n",
    "        plot(target, '-r')\n",
    "        plot(sensor, '-b')\n",
    "        display.clear_output(wait=True)\n",
    "        display.display(gcf())\n",
    "agent.sense_think_act = sense_think_act\n",
    "agent.start()"
   ]
  }
 ],
 "metadata": {
  "kernelspec": {
   "display_name": "Python 2",
   "language": "python",
   "name": "python2"
  },
  "language_info": {
   "codemirror_mode": {
    "name": "ipython",
    "version": 2
   },
   "file_extension": ".py",
   "mimetype": "text/x-python",
   "name": "python",
   "nbconvert_exporter": "python",
   "pygments_lexer": "ipython2",
   "version": "2.7.6"
  }
 },
 "nbformat": 4,
 "nbformat_minor": 0
}
